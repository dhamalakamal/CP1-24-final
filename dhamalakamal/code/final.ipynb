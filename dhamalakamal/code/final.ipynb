{
 "cells": [
  {
   "cell_type": "markdown",
   "metadata": {},
   "source": [
    "# Final Project\n",
    "\n",
    "## How to Run the Code\n",
    "\n",
    "This notebook demonstrates the how to run the code part in this final project. \n",
    "`test_final.py` covers all the functionality of the following features from the `final.py` module. So, we are going to run pytest here.\n",
    "\n",
    "1. **Fahrenheit to Kelvin Converter**: Converts a temperature from Fahrenheit to Kelvin.\n",
    "2. **Markdown Temperature Parser**: Extracts the temperature (in Fahrenheit) from a Markdown file.\n",
    "3. **Filename Lister**: Lists all Markdown files in a directory matching a specific pattern.\n",
    "4. **Non-linear Fitting**: Performs non-linear curve fitting.\n",
    "5. **Numpy FFT Wrapper**: Performs FFT and inverse FFT with support for non-equidistant data checks.\n",
    "6. **Pure Python Frequency Axis Calculator**: Computes the frequency axis without using NumPy.\n",
    "\n",
    "### To run the code locally:\n",
    "#### System requirements \n",
    "- pc (windows/mac/linux)\n",
    "- Python3 \n",
    "- pip \n",
    "\n",
    "#### Steps\n",
    "1. Clone the repository locally using a terminal (with git features)\n",
    "```bash\n",
    "    git clone https://github.com/dhamalakamal/CP1-24-final.git\n",
    "    cd CP1-24-final\n",
    "```\n",
    "\n",
    "2. Create virtual environment and activate:\n",
    "```bash\n",
    "    python3 -m venv venv # create a virtual environment\n",
    "    source venv/Scripts/activate # to enable virtual environment | for windows do without `source` command\n",
    "```\n",
    "\n",
    "3. Install required libraries:\n",
    "```bash\n",
    "    pip install -r requirements.txt # install all the required libraries for the code to work\n",
    "```\n",
    "\n",
    "4. Run the test which covers all above mentioned functionality in `final.py`: \n",
    "```bash\n",
    "    pytest dhamalakamal/code/test_final.py \n",
    "\n",
    "    # to run a specific test for specific method \n",
    "    pytest dhamalakamal/code/test_final.py::[name_of_the_test] # look into the test_final.py file for the name of the test\n",
    "    pytest dhamalakamal/code/test_final.py::test_fahrenheit_to_kelvin\n",
    "```\n",
    "\n",
    "### To run on online workspace\n",
    "\n",
    "#### Requirements \n",
    "- You must have a github account and login with your account.\n",
    "- Have access to the repo `dhamalakamal/CP1-24-final` to be able to fork it.\n",
    "\n",
    "#### Steps\n",
    "- Fork it from fork option available there on the repo page\n",
    "- Then from your forked repo, go to `Code` option.\n",
    "- Click on `Codespaces` tab from dropdown.\n",
    "- Click `+` sign to create a new codespace on main.\n",
    "- It will take few minutes to create one for you, wait until then.\n",
    "- Once the codespace is ready, click on it (it will be with some random name under `On current branch` within the codespace tab).\n",
    "- It will open the codespace with everything ready to run.\n",
    "- There will be a terminal space open down the readme section.\n",
    "- Run the test which covers all the function inside `final.py`. \n",
    "```bash\n",
    "    pytest dhamalakamal/code/test_final.py \n",
    "\n",
    "    # to run a specific test for specific method \n",
    "    pytest dhamalakamal/code/test_final.py::[name_of_the_test] # look into the test_final.py file for the name of the test\n",
    "    pytest dhamalakamal/code/test_final.py::test_fahrenheit_to_kelvin\n",
    "```\n",
    "\n",
    "## Bibliography\n",
    "Chat Gpt\n",
    "- Merge two Git repositories without breaking file history [Merge](https://stackoverflow.com/questions/13040958/merge-two-git-repositories-without-breaking-file-history)\n",
    "- Python Documentation: [os module](https://docs.python.org/3/library/os.html)\n",
    "- NumPy Documentation: [FFT functions](https://numpy.org/doc/stable/reference/generated/numpy.fft.fft.html)\n",
    "- Markdown Parsing: [Chat Gpt](https://chatgpt.com/c/674cffd8-8c34-8001-9456-69b58624a61d) and Techniques adapted from Markdown specifications and online tutorials\n",
    "- Non-linear Fitting: [Scipy curve_fit documentation](https://docs.scipy.org/doc/scipy/reference/generated/scipy.optimize.curve_fit.html)\n"
   ]
  },
  {
   "cell_type": "code",
   "execution_count": null,
   "metadata": {
    "vscode": {
     "languageId": "plaintext"
    }
   },
   "outputs": [],
   "source": [
    "# Code for jupyter notebook\n"
   ]
  }
 ],
 "metadata": {
  "language_info": {
   "name": "python"
  }
 },
 "nbformat": 4,
 "nbformat_minor": 2
}
